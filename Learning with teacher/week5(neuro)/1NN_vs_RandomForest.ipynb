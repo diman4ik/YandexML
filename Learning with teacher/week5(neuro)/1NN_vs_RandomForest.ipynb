{
 "cells": [
  {
   "cell_type": "code",
   "execution_count": 8,
   "metadata": {},
   "outputs": [
    {
     "name": "stdout",
     "output_type": "stream",
     "text": [
      "Populating the interactive namespace from numpy and matplotlib\n"
     ]
    }
   ],
   "source": [
    "%pylab inline"
   ]
  },
  {
   "cell_type": "code",
   "execution_count": 9,
   "metadata": {},
   "outputs": [],
   "source": [
    "from sklearn import ensemble, cross_validation, learning_curve, metrics, datasets \n",
    "\n",
    "import numpy as np\n",
    "import pandas as pd"
   ]
  },
  {
   "cell_type": "code",
   "execution_count": 21,
   "metadata": {},
   "outputs": [
    {
     "name": "stdout",
     "output_type": "stream",
     "text": [
      "(1797L, 64L)\n",
      "[[  0.   0.   5.  13.   9.   1.   0.   0.   0.   0.  13.  15.  10.  15.\n",
      "    5.   0.   0.   3.  15.   2.   0.  11.   8.   0.   0.   4.  12.   0.\n",
      "    0.   8.   8.   0.   0.   5.   8.   0.   0.   9.   8.   0.   0.   4.\n",
      "   11.   0.   1.  12.   7.   0.   0.   2.  14.   5.  10.  12.   0.   0.\n",
      "    0.   0.   6.  13.  10.   0.   0.   0.]\n",
      " [  0.   0.   0.  12.  13.   5.   0.   0.   0.   0.   0.  11.  16.   9.\n",
      "    0.   0.   0.   0.   3.  15.  16.   6.   0.   0.   0.   7.  15.  16.\n",
      "   16.   2.   0.   0.   0.   0.   1.  16.  16.   3.   0.   0.   0.   0.\n",
      "    1.  16.  16.   6.   0.   0.   0.   0.   1.  16.  16.   6.   0.   0.\n",
      "    0.   0.   0.  11.  16.  10.   0.   0.]\n",
      " [  0.   0.   0.   4.  15.  12.   0.   0.   0.   0.   3.  16.  15.  14.\n",
      "    0.   0.   0.   0.   8.  13.   8.  16.   0.   0.   0.   0.   1.   6.\n",
      "   15.  11.   0.   0.   0.   1.   8.  13.  15.   1.   0.   0.   0.   9.\n",
      "   16.  16.   5.   0.   0.   0.   0.   3.  13.  16.  16.  11.   5.   0.\n",
      "    0.   0.   0.   3.  11.  16.   9.   0.]\n",
      " [  0.   0.   7.  15.  13.   1.   0.   0.   0.   8.  13.   6.  15.   4.\n",
      "    0.   0.   0.   2.   1.  13.  13.   0.   0.   0.   0.   0.   2.  15.\n",
      "   11.   1.   0.   0.   0.   0.   0.   1.  12.  12.   1.   0.   0.   0.\n",
      "    0.   0.   1.  10.   8.   0.   0.   0.   8.   4.   5.  14.   9.   0.\n",
      "    0.   0.   7.  13.  13.   9.   0.   0.]\n",
      " [  0.   0.   0.   1.  11.   0.   0.   0.   0.   0.   0.   7.   8.   0.\n",
      "    0.   0.   0.   0.   1.  13.   6.   2.   2.   0.   0.   0.   7.  15.\n",
      "    0.   9.   8.   0.   0.   5.  16.  10.   0.  16.   6.   0.   0.   4.\n",
      "   15.  16.  13.  16.   1.   0.   0.   0.   0.   3.  15.  10.   0.   0.\n",
      "    0.   0.   0.   2.  16.   4.   0.   0.]]\n",
      "[0 1 2 3 4 5 6 7 8 9 0 1 2 3 4 5 6 7 8 9]\n"
     ]
    }
   ],
   "source": [
    "dataset = datasets.load_digits()\n",
    "print(dataset.data.shape)\n",
    "print(dataset.data[0:5])\n",
    "print(dataset.target[0:20])\n",
    "#print(dataset.target)"
   ]
  },
  {
   "cell_type": "code",
   "execution_count": 11,
   "metadata": {
    "collapsed": true
   },
   "outputs": [],
   "source": [
    "# 25% в тест именно последних!\n",
    "X_train = dataset.data[:1348]\n",
    "X_test = dataset.data[1348:]\n",
    "y_train = dataset.target[:1348]\n",
    "y_test = dataset.target[1348:]"
   ]
  },
  {
   "cell_type": "code",
   "execution_count": 24,
   "metadata": {},
   "outputs": [
    {
     "name": "stdout",
     "output_type": "stream",
     "text": [
      "6 5\n",
      "9 8\n",
      "1 8\n",
      "1 8\n",
      "5 9\n",
      "7 3\n",
      "8 3\n",
      "9 4\n",
      "9 4\n",
      "9 3\n",
      "3 9\n",
      "9 4\n",
      "5 9\n",
      "5 3\n",
      "8 3\n",
      "5 3\n",
      "1 8\n",
      "432\n",
      "17\n",
      "(449L,)\n"
     ]
    }
   ],
   "source": [
    "def get_dist(point1, point2):\n",
    "    ret = 0;\n",
    "    for ind, coord in enumerate(point1):\n",
    "        coord2 = point2[ind]\n",
    "        \n",
    "        ret += (coord - coord2)**2\n",
    "        \n",
    "    return ret\n",
    "\n",
    "def closest_point(point, frompoints):\n",
    "    min_dist = - 1;\n",
    "    min_index = -1;\n",
    "    for ind, tpoint in enumerate(frompoints):\n",
    "        dist = get_dist(point, tpoint)\n",
    "        if dist < min_dist or min_dist == -1:\n",
    "            min_dist = dist\n",
    "            min_index = ind\n",
    "    return min_index\n",
    "\n",
    "total_right_answers = 0\n",
    "total_wrong_answers = 0\n",
    "\n",
    "for ind, point in enumerate(X_test):\n",
    "    neigh_ind = closest_point(point, X_train)\n",
    "    answer = y_train[neigh_ind]\n",
    "    right_answer = y_test[ind]\n",
    "    \n",
    "    if answer == right_answer:\n",
    "        total_right_answers += 1\n",
    "    else:\n",
    "        print( str(answer) + \" \" + str(right_answer))\n",
    "        total_wrong_answers += 1\n",
    "    \n",
    "print(total_right_answers)\n",
    "print(total_wrong_answers)\n",
    "print(y_test.shape)"
   ]
  },
  {
   "cell_type": "code",
   "execution_count": 25,
   "metadata": {},
   "outputs": [
    {
     "name": "stdout",
     "output_type": "stream",
     "text": [
      "0.0378619153675\n"
     ]
    }
   ],
   "source": [
    "print(float(17)/449)"
   ]
  },
  {
   "cell_type": "code",
   "execution_count": 26,
   "metadata": {},
   "outputs": [
    {
     "name": "stdout",
     "output_type": "stream",
     "text": [
      "0.0690423162584\n"
     ]
    }
   ],
   "source": [
    "clf = ensemble.RandomForestClassifier(n_estimators=1000)\n",
    "clf.fit(X_train, y_train)\n",
    "predictions = clf.predict(X_test)\n",
    "\n",
    "nwrong = 0\n",
    "\n",
    "for ind, npred in enumerate(predictions):\n",
    "    if npred != y_test[ind]:\n",
    "        nwrong += 1\n",
    "\n",
    "print(float(nwrong)/449)"
   ]
  },
  {
   "cell_type": "code",
   "execution_count": null,
   "metadata": {
    "collapsed": true
   },
   "outputs": [],
   "source": []
  }
 ],
 "metadata": {
  "kernelspec": {
   "display_name": "Python 2",
   "language": "python",
   "name": "python2"
  },
  "language_info": {
   "codemirror_mode": {
    "name": "ipython",
    "version": 2
   },
   "file_extension": ".py",
   "mimetype": "text/x-python",
   "name": "python",
   "nbconvert_exporter": "python",
   "pygments_lexer": "ipython2",
   "version": "2.7.13"
  }
 },
 "nbformat": 4,
 "nbformat_minor": 2
}
